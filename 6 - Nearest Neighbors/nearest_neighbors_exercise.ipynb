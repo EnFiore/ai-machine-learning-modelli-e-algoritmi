{
  "nbformat": 4,
  "nbformat_minor": 0,
  "metadata": {
    "colab": {
      "provenance": [],
      "include_colab_link": true
    },
    "kernelspec": {
      "name": "python3",
      "display_name": "Python 3"
    },
    "language_info": {
      "name": "python"
    }
  },
  "cells": [
    {
      "cell_type": "markdown",
      "metadata": {
        "id": "view-in-github",
        "colab_type": "text"
      },
      "source": [
        "<a href=\"https://colab.research.google.com/github/EnFiore/ai-machine-learning-modelli-e-algoritmi/blob/main/6%20-%20Nearest%20Neighbors/nearest_neighbors_exercise.ipynb\" target=\"_parent\"><img src=\"https://colab.research.google.com/assets/colab-badge.svg\" alt=\"Open In Colab\"/></a>"
      ]
    },
    {
      "cell_type": "markdown",
      "source": [
        "## Face Recognition\n",
        "In questa esercitazione dovrai addestrare un sistema di face recognition, in grado di riconoscere 40 differenti persone. Per farlo puoi utilizzare l'Olivetti Faces Dataset scaricabile [da qui](https://github.com/ProfAI/machine-learning-modelli-e-algoritmi/raw/main/datasets/olivetti_faces.zip) e un algoritmo Nearest Neighbors, l'accuracy del modello deve essere almeno del 80%. Quale tra le 40 persone ti somiglia di più?\n",
        "\n"
      ],
      "metadata": {
        "id": "qF17tdFB5uMj"
      }
    },
    {
      "cell_type": "code",
      "source": [
        "#recupero il dataset e lo si spacchetta\n",
        "#il pacchetto zip ha varie cartelal ciascuna con 10 immagini del volto\n",
        "!wget https://github.com/ProfAI/machine-learning-modelli-e-algoritmi/raw/main/datasets/olivetti_faces.zip\n",
        "!unzip -o olivetti_faces.zip -d olivetti_faces"
      ],
      "metadata": {
        "colab": {
          "base_uri": "https://localhost:8080/"
        },
        "id": "kGSWph395qAb",
        "outputId": "bc9be213-76f1-46ea-9545-6f1d6fe705b6"
      },
      "execution_count": null,
      "outputs": [
        {
          "output_type": "stream",
          "name": "stdout",
          "text": [
            "--2025-10-21 13:46:24--  https://github.com/ProfAI/machine-learning-modelli-e-algoritmi/raw/main/datasets/olivetti_faces.zip\n",
            "Resolving github.com (github.com)... 20.27.177.113\n",
            "Connecting to github.com (github.com)|20.27.177.113|:443... connected.\n",
            "HTTP request sent, awaiting response... 302 Found\n",
            "Location: https://raw.githubusercontent.com/ProfAI/machine-learning-modelli-e-algoritmi/main/datasets/olivetti_faces.zip [following]\n",
            "--2025-10-21 13:46:25--  https://raw.githubusercontent.com/ProfAI/machine-learning-modelli-e-algoritmi/main/datasets/olivetti_faces.zip\n",
            "Resolving raw.githubusercontent.com (raw.githubusercontent.com)... 185.199.110.133, 185.199.111.133, 185.199.109.133, ...\n",
            "Connecting to raw.githubusercontent.com (raw.githubusercontent.com)|185.199.110.133|:443... connected.\n",
            "HTTP request sent, awaiting response... 200 OK\n",
            "Length: 912321 (891K) [application/zip]\n",
            "Saving to: ‘olivetti_faces.zip.3’\n",
            "\n",
            "olivetti_faces.zip. 100%[===================>] 890.94K  5.28MB/s    in 0.2s    \n",
            "\n",
            "2025-10-21 13:46:25 (5.28 MB/s) - ‘olivetti_faces.zip.3’ saved [912321/912321]\n",
            "\n",
            "Archive:  olivetti_faces.zip\n",
            " extracting: olivetti_faces/olivetti_faces/27/5.jpg  \n",
            " extracting: olivetti_faces/olivetti_faces/27/6.jpg  \n",
            " extracting: olivetti_faces/olivetti_faces/27/7.jpg  \n",
            " extracting: olivetti_faces/olivetti_faces/27/2.jpg  \n",
            " extracting: olivetti_faces/olivetti_faces/27/9.jpg  \n",
            " extracting: olivetti_faces/olivetti_faces/27/0.jpg  \n",
            " extracting: olivetti_faces/olivetti_faces/27/4.jpg  \n",
            " extracting: olivetti_faces/olivetti_faces/27/1.jpg  \n",
            " extracting: olivetti_faces/olivetti_faces/27/3.jpg  \n",
            " extracting: olivetti_faces/olivetti_faces/27/8.jpg  \n",
            " extracting: olivetti_faces/olivetti_faces/16/5.jpg  \n",
            " extracting: olivetti_faces/olivetti_faces/16/6.jpg  \n",
            " extracting: olivetti_faces/olivetti_faces/16/7.jpg  \n",
            " extracting: olivetti_faces/olivetti_faces/16/2.jpg  \n",
            " extracting: olivetti_faces/olivetti_faces/16/9.jpg  \n",
            " extracting: olivetti_faces/olivetti_faces/16/0.jpg  \n",
            " extracting: olivetti_faces/olivetti_faces/16/4.jpg  \n",
            " extracting: olivetti_faces/olivetti_faces/16/1.jpg  \n",
            " extracting: olivetti_faces/olivetti_faces/16/3.jpg  \n",
            " extracting: olivetti_faces/olivetti_faces/16/8.jpg  \n",
            " extracting: olivetti_faces/olivetti_faces/14/5.jpg  \n",
            " extracting: olivetti_faces/olivetti_faces/14/6.jpg  \n",
            " extracting: olivetti_faces/olivetti_faces/14/7.jpg  \n",
            " extracting: olivetti_faces/olivetti_faces/14/2.jpg  \n",
            " extracting: olivetti_faces/olivetti_faces/14/9.jpg  \n",
            " extracting: olivetti_faces/olivetti_faces/14/0.jpg  \n",
            " extracting: olivetti_faces/olivetti_faces/14/4.jpg  \n",
            " extracting: olivetti_faces/olivetti_faces/14/1.jpg  \n",
            " extracting: olivetti_faces/olivetti_faces/14/3.jpg  \n",
            " extracting: olivetti_faces/olivetti_faces/14/8.jpg  \n",
            " extracting: olivetti_faces/olivetti_faces/7/5.jpg  \n",
            " extracting: olivetti_faces/olivetti_faces/7/6.jpg  \n",
            " extracting: olivetti_faces/olivetti_faces/7/7.jpg  \n",
            " extracting: olivetti_faces/olivetti_faces/7/2.jpg  \n",
            " extracting: olivetti_faces/olivetti_faces/7/9.jpg  \n",
            " extracting: olivetti_faces/olivetti_faces/7/0.jpg  \n",
            " extracting: olivetti_faces/olivetti_faces/7/4.jpg  \n",
            " extracting: olivetti_faces/olivetti_faces/7/1.jpg  \n",
            " extracting: olivetti_faces/olivetti_faces/7/3.jpg  \n",
            " extracting: olivetti_faces/olivetti_faces/7/8.jpg  \n",
            " extracting: olivetti_faces/olivetti_faces/36/5.jpg  \n",
            " extracting: olivetti_faces/olivetti_faces/36/6.jpg  \n",
            " extracting: olivetti_faces/olivetti_faces/36/7.jpg  \n",
            " extracting: olivetti_faces/olivetti_faces/36/2.jpg  \n",
            " extracting: olivetti_faces/olivetti_faces/36/9.jpg  \n",
            " extracting: olivetti_faces/olivetti_faces/36/0.jpg  \n",
            " extracting: olivetti_faces/olivetti_faces/36/4.jpg  \n",
            " extracting: olivetti_faces/olivetti_faces/36/1.jpg  \n",
            " extracting: olivetti_faces/olivetti_faces/36/3.jpg  \n",
            " extracting: olivetti_faces/olivetti_faces/36/8.jpg  \n",
            " extracting: olivetti_faces/olivetti_faces/38/5.jpg  \n",
            " extracting: olivetti_faces/olivetti_faces/38/6.jpg  \n",
            " extracting: olivetti_faces/olivetti_faces/38/7.jpg  \n",
            " extracting: olivetti_faces/olivetti_faces/38/2.jpg  \n",
            " extracting: olivetti_faces/olivetti_faces/38/9.jpg  \n",
            " extracting: olivetti_faces/olivetti_faces/38/0.jpg  \n",
            " extracting: olivetti_faces/olivetti_faces/38/4.jpg  \n",
            " extracting: olivetti_faces/olivetti_faces/38/1.jpg  \n",
            " extracting: olivetti_faces/olivetti_faces/38/3.jpg  \n",
            " extracting: olivetti_faces/olivetti_faces/38/8.jpg  \n",
            " extracting: olivetti_faces/olivetti_faces/20/5.jpg  \n",
            " extracting: olivetti_faces/olivetti_faces/20/6.jpg  \n",
            " extracting: olivetti_faces/olivetti_faces/20/7.jpg  \n",
            " extracting: olivetti_faces/olivetti_faces/20/2.jpg  \n",
            " extracting: olivetti_faces/olivetti_faces/20/9.jpg  \n",
            " extracting: olivetti_faces/olivetti_faces/20/0.jpg  \n",
            " extracting: olivetti_faces/olivetti_faces/20/4.jpg  \n",
            " extracting: olivetti_faces/olivetti_faces/20/1.jpg  \n",
            " extracting: olivetti_faces/olivetti_faces/20/3.jpg  \n",
            " extracting: olivetti_faces/olivetti_faces/20/8.jpg  \n",
            " extracting: olivetti_faces/olivetti_faces/13/5.jpg  \n",
            " extracting: olivetti_faces/olivetti_faces/13/6.jpg  \n",
            " extracting: olivetti_faces/olivetti_faces/13/7.jpg  \n",
            " extracting: olivetti_faces/olivetti_faces/13/2.jpg  \n",
            " extracting: olivetti_faces/olivetti_faces/13/9.jpg  \n",
            " extracting: olivetti_faces/olivetti_faces/13/0.jpg  \n",
            " extracting: olivetti_faces/olivetti_faces/13/4.jpg  \n",
            " extracting: olivetti_faces/olivetti_faces/13/1.jpg  \n",
            " extracting: olivetti_faces/olivetti_faces/13/3.jpg  \n",
            " extracting: olivetti_faces/olivetti_faces/13/8.jpg  \n",
            " extracting: olivetti_faces/olivetti_faces/10/5.jpg  \n",
            " extracting: olivetti_faces/olivetti_faces/10/6.jpg  \n",
            " extracting: olivetti_faces/olivetti_faces/10/7.jpg  \n",
            " extracting: olivetti_faces/olivetti_faces/10/2.jpg  \n",
            " extracting: olivetti_faces/olivetti_faces/10/9.jpg  \n",
            " extracting: olivetti_faces/olivetti_faces/10/0.jpg  \n",
            " extracting: olivetti_faces/olivetti_faces/10/4.jpg  \n",
            " extracting: olivetti_faces/olivetti_faces/10/1.jpg  \n",
            " extracting: olivetti_faces/olivetti_faces/10/3.jpg  \n",
            " extracting: olivetti_faces/olivetti_faces/10/8.jpg  \n",
            " extracting: olivetti_faces/olivetti_faces/24/5.jpg  \n",
            " extracting: olivetti_faces/olivetti_faces/24/6.jpg  \n",
            " extracting: olivetti_faces/olivetti_faces/24/7.jpg  \n",
            " extracting: olivetti_faces/olivetti_faces/24/2.jpg  \n",
            " extracting: olivetti_faces/olivetti_faces/24/9.jpg  \n",
            " extracting: olivetti_faces/olivetti_faces/24/0.jpg  \n",
            " extracting: olivetti_faces/olivetti_faces/24/4.jpg  \n",
            " extracting: olivetti_faces/olivetti_faces/24/1.jpg  \n",
            " extracting: olivetti_faces/olivetti_faces/24/3.jpg  \n",
            " extracting: olivetti_faces/olivetti_faces/24/8.jpg  \n",
            " extracting: olivetti_faces/olivetti_faces/15/5.jpg  \n",
            " extracting: olivetti_faces/olivetti_faces/15/6.jpg  \n",
            " extracting: olivetti_faces/olivetti_faces/15/7.jpg  \n",
            " extracting: olivetti_faces/olivetti_faces/15/2.jpg  \n",
            " extracting: olivetti_faces/olivetti_faces/15/9.jpg  \n",
            " extracting: olivetti_faces/olivetti_faces/15/0.jpg  \n",
            " extracting: olivetti_faces/olivetti_faces/15/4.jpg  \n",
            " extracting: olivetti_faces/olivetti_faces/15/1.jpg  \n",
            " extracting: olivetti_faces/olivetti_faces/15/3.jpg  \n",
            " extracting: olivetti_faces/olivetti_faces/15/8.jpg  \n",
            " extracting: olivetti_faces/olivetti_faces/34/5.jpg  \n",
            " extracting: olivetti_faces/olivetti_faces/34/6.jpg  \n",
            " extracting: olivetti_faces/olivetti_faces/34/7.jpg  \n",
            " extracting: olivetti_faces/olivetti_faces/34/2.jpg  \n",
            " extracting: olivetti_faces/olivetti_faces/34/9.jpg  \n",
            " extracting: olivetti_faces/olivetti_faces/34/0.jpg  \n",
            " extracting: olivetti_faces/olivetti_faces/34/4.jpg  \n",
            " extracting: olivetti_faces/olivetti_faces/34/1.jpg  \n",
            " extracting: olivetti_faces/olivetti_faces/34/3.jpg  \n",
            " extracting: olivetti_faces/olivetti_faces/34/8.jpg  \n",
            " extracting: olivetti_faces/olivetti_faces/9/5.jpg  \n",
            " extracting: olivetti_faces/olivetti_faces/9/6.jpg  \n",
            " extracting: olivetti_faces/olivetti_faces/9/7.jpg  \n",
            " extracting: olivetti_faces/olivetti_faces/9/2.jpg  \n",
            " extracting: olivetti_faces/olivetti_faces/9/9.jpg  \n",
            " extracting: olivetti_faces/olivetti_faces/9/0.jpg  \n",
            " extracting: olivetti_faces/olivetti_faces/9/4.jpg  \n",
            " extracting: olivetti_faces/olivetti_faces/9/1.jpg  \n",
            " extracting: olivetti_faces/olivetti_faces/9/3.jpg  \n",
            " extracting: olivetti_faces/olivetti_faces/9/8.jpg  \n",
            " extracting: olivetti_faces/olivetti_faces/17/5.jpg  \n",
            " extracting: olivetti_faces/olivetti_faces/17/6.jpg  \n",
            " extracting: olivetti_faces/olivetti_faces/17/7.jpg  \n",
            " extracting: olivetti_faces/olivetti_faces/17/2.jpg  \n",
            " extracting: olivetti_faces/olivetti_faces/17/9.jpg  \n",
            " extracting: olivetti_faces/olivetti_faces/17/0.jpg  \n",
            " extracting: olivetti_faces/olivetti_faces/17/4.jpg  \n",
            " extracting: olivetti_faces/olivetti_faces/17/1.jpg  \n",
            " extracting: olivetti_faces/olivetti_faces/17/3.jpg  \n",
            " extracting: olivetti_faces/olivetti_faces/17/8.jpg  \n",
            " extracting: olivetti_faces/olivetti_faces/12/5.jpg  \n",
            " extracting: olivetti_faces/olivetti_faces/12/6.jpg  \n",
            " extracting: olivetti_faces/olivetti_faces/12/7.jpg  \n",
            " extracting: olivetti_faces/olivetti_faces/12/2.jpg  \n",
            " extracting: olivetti_faces/olivetti_faces/12/9.jpg  \n",
            " extracting: olivetti_faces/olivetti_faces/12/0.jpg  \n",
            " extracting: olivetti_faces/olivetti_faces/12/4.jpg  \n",
            " extracting: olivetti_faces/olivetti_faces/12/1.jpg  \n",
            " extracting: olivetti_faces/olivetti_faces/12/3.jpg  \n",
            " extracting: olivetti_faces/olivetti_faces/12/8.jpg  \n",
            " extracting: olivetti_faces/olivetti_faces/25/5.jpg  \n",
            " extracting: olivetti_faces/olivetti_faces/25/6.jpg  \n",
            " extracting: olivetti_faces/olivetti_faces/25/7.jpg  \n",
            " extracting: olivetti_faces/olivetti_faces/25/2.jpg  \n",
            " extracting: olivetti_faces/olivetti_faces/25/9.jpg  \n",
            " extracting: olivetti_faces/olivetti_faces/25/0.jpg  \n",
            " extracting: olivetti_faces/olivetti_faces/25/4.jpg  \n",
            " extracting: olivetti_faces/olivetti_faces/25/1.jpg  \n",
            " extracting: olivetti_faces/olivetti_faces/25/3.jpg  \n",
            " extracting: olivetti_faces/olivetti_faces/25/8.jpg  \n",
            " extracting: olivetti_faces/olivetti_faces/32/5.jpg  \n",
            " extracting: olivetti_faces/olivetti_faces/32/6.jpg  \n",
            " extracting: olivetti_faces/olivetti_faces/32/7.jpg  \n",
            " extracting: olivetti_faces/olivetti_faces/32/2.jpg  \n",
            " extracting: olivetti_faces/olivetti_faces/32/9.jpg  \n",
            " extracting: olivetti_faces/olivetti_faces/32/0.jpg  \n",
            " extracting: olivetti_faces/olivetti_faces/32/4.jpg  \n",
            " extracting: olivetti_faces/olivetti_faces/32/1.jpg  \n",
            " extracting: olivetti_faces/olivetti_faces/32/3.jpg  \n",
            " extracting: olivetti_faces/olivetti_faces/32/8.jpg  \n",
            " extracting: olivetti_faces/olivetti_faces/23/5.jpg  \n",
            " extracting: olivetti_faces/olivetti_faces/23/6.jpg  \n",
            " extracting: olivetti_faces/olivetti_faces/23/7.jpg  \n",
            " extracting: olivetti_faces/olivetti_faces/23/2.jpg  \n",
            " extracting: olivetti_faces/olivetti_faces/23/9.jpg  \n",
            " extracting: olivetti_faces/olivetti_faces/23/0.jpg  \n",
            " extracting: olivetti_faces/olivetti_faces/23/4.jpg  \n",
            " extracting: olivetti_faces/olivetti_faces/23/1.jpg  \n",
            " extracting: olivetti_faces/olivetti_faces/23/3.jpg  \n",
            " extracting: olivetti_faces/olivetti_faces/23/8.jpg  \n",
            " extracting: olivetti_faces/olivetti_faces/0/5.jpg  \n",
            " extracting: olivetti_faces/olivetti_faces/0/6.jpg  \n",
            " extracting: olivetti_faces/olivetti_faces/0/7.jpg  \n",
            " extracting: olivetti_faces/olivetti_faces/0/2.jpg  \n",
            " extracting: olivetti_faces/olivetti_faces/0/9.jpg  \n",
            " extracting: olivetti_faces/olivetti_faces/0/0.jpg  \n",
            " extracting: olivetti_faces/olivetti_faces/0/4.jpg  \n",
            " extracting: olivetti_faces/olivetti_faces/0/1.jpg  \n",
            " extracting: olivetti_faces/olivetti_faces/0/3.jpg  \n",
            " extracting: olivetti_faces/olivetti_faces/0/8.jpg  \n",
            " extracting: olivetti_faces/olivetti_faces/1/5.jpg  \n",
            " extracting: olivetti_faces/olivetti_faces/1/6.jpg  \n",
            " extracting: olivetti_faces/olivetti_faces/1/7.jpg  \n",
            " extracting: olivetti_faces/olivetti_faces/1/2.jpg  \n",
            " extracting: olivetti_faces/olivetti_faces/1/9.jpg  \n",
            " extracting: olivetti_faces/olivetti_faces/1/0.jpg  \n",
            " extracting: olivetti_faces/olivetti_faces/1/4.jpg  \n",
            " extracting: olivetti_faces/olivetti_faces/1/1.jpg  \n",
            " extracting: olivetti_faces/olivetti_faces/1/3.jpg  \n",
            " extracting: olivetti_faces/olivetti_faces/1/8.jpg  \n",
            " extracting: olivetti_faces/olivetti_faces/8/5.jpg  \n",
            " extracting: olivetti_faces/olivetti_faces/8/6.jpg  \n",
            " extracting: olivetti_faces/olivetti_faces/8/7.jpg  \n",
            " extracting: olivetti_faces/olivetti_faces/8/2.jpg  \n",
            " extracting: olivetti_faces/olivetti_faces/8/9.jpg  \n",
            " extracting: olivetti_faces/olivetti_faces/8/0.jpg  \n",
            " extracting: olivetti_faces/olivetti_faces/8/4.jpg  \n",
            " extracting: olivetti_faces/olivetti_faces/8/1.jpg  \n",
            " extracting: olivetti_faces/olivetti_faces/8/3.jpg  \n",
            " extracting: olivetti_faces/olivetti_faces/8/8.jpg  \n",
            " extracting: olivetti_faces/olivetti_faces/35/5.jpg  \n",
            " extracting: olivetti_faces/olivetti_faces/35/6.jpg  \n",
            " extracting: olivetti_faces/olivetti_faces/35/7.jpg  \n",
            " extracting: olivetti_faces/olivetti_faces/35/2.jpg  \n",
            " extracting: olivetti_faces/olivetti_faces/35/9.jpg  \n",
            " extracting: olivetti_faces/olivetti_faces/35/0.jpg  \n",
            " extracting: olivetti_faces/olivetti_faces/35/4.jpg  \n",
            " extracting: olivetti_faces/olivetti_faces/35/1.jpg  \n",
            " extracting: olivetti_faces/olivetti_faces/35/3.jpg  \n",
            " extracting: olivetti_faces/olivetti_faces/35/8.jpg  \n",
            " extracting: olivetti_faces/olivetti_faces/4/5.jpg  \n",
            " extracting: olivetti_faces/olivetti_faces/4/6.jpg  \n",
            " extracting: olivetti_faces/olivetti_faces/4/7.jpg  \n",
            " extracting: olivetti_faces/olivetti_faces/4/2.jpg  \n",
            " extracting: olivetti_faces/olivetti_faces/4/9.jpg  \n",
            " extracting: olivetti_faces/olivetti_faces/4/0.jpg  \n",
            " extracting: olivetti_faces/olivetti_faces/4/4.jpg  \n",
            " extracting: olivetti_faces/olivetti_faces/4/1.jpg  \n",
            " extracting: olivetti_faces/olivetti_faces/4/3.jpg  \n",
            " extracting: olivetti_faces/olivetti_faces/4/8.jpg  \n",
            " extracting: olivetti_faces/olivetti_faces/2/5.jpg  \n",
            " extracting: olivetti_faces/olivetti_faces/2/6.jpg  \n",
            " extracting: olivetti_faces/olivetti_faces/2/7.jpg  \n",
            " extracting: olivetti_faces/olivetti_faces/2/2.jpg  \n",
            " extracting: olivetti_faces/olivetti_faces/2/9.jpg  \n",
            " extracting: olivetti_faces/olivetti_faces/2/0.jpg  \n",
            " extracting: olivetti_faces/olivetti_faces/2/4.jpg  \n",
            " extracting: olivetti_faces/olivetti_faces/2/1.jpg  \n",
            " extracting: olivetti_faces/olivetti_faces/2/3.jpg  \n",
            " extracting: olivetti_faces/olivetti_faces/2/8.jpg  \n",
            " extracting: olivetti_faces/olivetti_faces/29/5.jpg  \n",
            " extracting: olivetti_faces/olivetti_faces/29/6.jpg  \n",
            " extracting: olivetti_faces/olivetti_faces/29/7.jpg  \n",
            " extracting: olivetti_faces/olivetti_faces/29/2.jpg  \n",
            " extracting: olivetti_faces/olivetti_faces/29/9.jpg  \n",
            " extracting: olivetti_faces/olivetti_faces/29/0.jpg  \n",
            " extracting: olivetti_faces/olivetti_faces/29/4.jpg  \n",
            " extracting: olivetti_faces/olivetti_faces/29/1.jpg  \n",
            " extracting: olivetti_faces/olivetti_faces/29/3.jpg  \n",
            " extracting: olivetti_faces/olivetti_faces/29/8.jpg  \n",
            " extracting: olivetti_faces/olivetti_faces/37/5.jpg  \n",
            " extracting: olivetti_faces/olivetti_faces/37/6.jpg  \n",
            " extracting: olivetti_faces/olivetti_faces/37/7.jpg  \n",
            " extracting: olivetti_faces/olivetti_faces/37/2.jpg  \n",
            " extracting: olivetti_faces/olivetti_faces/37/9.jpg  \n",
            " extracting: olivetti_faces/olivetti_faces/37/0.jpg  \n",
            " extracting: olivetti_faces/olivetti_faces/37/4.jpg  \n",
            " extracting: olivetti_faces/olivetti_faces/37/1.jpg  \n",
            " extracting: olivetti_faces/olivetti_faces/37/3.jpg  \n",
            " extracting: olivetti_faces/olivetti_faces/37/8.jpg  \n",
            " extracting: olivetti_faces/olivetti_faces/18/5.jpg  \n",
            " extracting: olivetti_faces/olivetti_faces/18/6.jpg  \n",
            " extracting: olivetti_faces/olivetti_faces/18/7.jpg  \n",
            " extracting: olivetti_faces/olivetti_faces/18/2.jpg  \n",
            " extracting: olivetti_faces/olivetti_faces/18/9.jpg  \n",
            " extracting: olivetti_faces/olivetti_faces/18/0.jpg  \n",
            " extracting: olivetti_faces/olivetti_faces/18/4.jpg  \n",
            " extracting: olivetti_faces/olivetti_faces/18/1.jpg  \n",
            " extracting: olivetti_faces/olivetti_faces/18/3.jpg  \n",
            " extracting: olivetti_faces/olivetti_faces/18/8.jpg  \n",
            " extracting: olivetti_faces/olivetti_faces/30/5.jpg  \n",
            " extracting: olivetti_faces/olivetti_faces/30/6.jpg  \n",
            " extracting: olivetti_faces/olivetti_faces/30/7.jpg  \n",
            " extracting: olivetti_faces/olivetti_faces/30/2.jpg  \n",
            " extracting: olivetti_faces/olivetti_faces/30/9.jpg  \n",
            " extracting: olivetti_faces/olivetti_faces/30/0.jpg  \n",
            " extracting: olivetti_faces/olivetti_faces/30/4.jpg  \n",
            " extracting: olivetti_faces/olivetti_faces/30/1.jpg  \n",
            " extracting: olivetti_faces/olivetti_faces/30/3.jpg  \n",
            " extracting: olivetti_faces/olivetti_faces/30/8.jpg  \n",
            " extracting: olivetti_faces/olivetti_faces/33/5.jpg  \n",
            " extracting: olivetti_faces/olivetti_faces/33/6.jpg  \n",
            " extracting: olivetti_faces/olivetti_faces/33/7.jpg  \n",
            " extracting: olivetti_faces/olivetti_faces/33/2.jpg  \n",
            " extracting: olivetti_faces/olivetti_faces/33/9.jpg  \n",
            " extracting: olivetti_faces/olivetti_faces/33/0.jpg  \n",
            " extracting: olivetti_faces/olivetti_faces/33/4.jpg  \n",
            " extracting: olivetti_faces/olivetti_faces/33/1.jpg  \n",
            " extracting: olivetti_faces/olivetti_faces/33/3.jpg  \n",
            " extracting: olivetti_faces/olivetti_faces/33/8.jpg  \n",
            " extracting: olivetti_faces/olivetti_faces/21/5.jpg  \n",
            " extracting: olivetti_faces/olivetti_faces/21/6.jpg  \n",
            " extracting: olivetti_faces/olivetti_faces/21/7.jpg  \n",
            " extracting: olivetti_faces/olivetti_faces/21/2.jpg  \n",
            " extracting: olivetti_faces/olivetti_faces/21/9.jpg  \n",
            " extracting: olivetti_faces/olivetti_faces/21/0.jpg  \n",
            " extracting: olivetti_faces/olivetti_faces/21/4.jpg  \n",
            " extracting: olivetti_faces/olivetti_faces/21/1.jpg  \n",
            " extracting: olivetti_faces/olivetti_faces/21/3.jpg  \n",
            " extracting: olivetti_faces/olivetti_faces/21/8.jpg  \n",
            " extracting: olivetti_faces/olivetti_faces/11/5.jpg  \n",
            " extracting: olivetti_faces/olivetti_faces/11/6.jpg  \n",
            " extracting: olivetti_faces/olivetti_faces/11/7.jpg  \n",
            " extracting: olivetti_faces/olivetti_faces/11/2.jpg  \n",
            " extracting: olivetti_faces/olivetti_faces/11/9.jpg  \n",
            " extracting: olivetti_faces/olivetti_faces/11/0.jpg  \n",
            " extracting: olivetti_faces/olivetti_faces/11/4.jpg  \n",
            " extracting: olivetti_faces/olivetti_faces/11/1.jpg  \n",
            " extracting: olivetti_faces/olivetti_faces/11/3.jpg  \n",
            " extracting: olivetti_faces/olivetti_faces/11/8.jpg  \n",
            " extracting: olivetti_faces/olivetti_faces/39/5.jpg  \n",
            " extracting: olivetti_faces/olivetti_faces/39/6.jpg  \n",
            " extracting: olivetti_faces/olivetti_faces/39/7.jpg  \n",
            " extracting: olivetti_faces/olivetti_faces/39/2.jpg  \n",
            " extracting: olivetti_faces/olivetti_faces/39/9.jpg  \n",
            " extracting: olivetti_faces/olivetti_faces/39/0.jpg  \n",
            " extracting: olivetti_faces/olivetti_faces/39/4.jpg  \n",
            " extracting: olivetti_faces/olivetti_faces/39/1.jpg  \n",
            " extracting: olivetti_faces/olivetti_faces/39/3.jpg  \n",
            " extracting: olivetti_faces/olivetti_faces/39/8.jpg  \n",
            " extracting: olivetti_faces/olivetti_faces/3/5.jpg  \n",
            " extracting: olivetti_faces/olivetti_faces/3/6.jpg  \n",
            " extracting: olivetti_faces/olivetti_faces/3/7.jpg  \n",
            " extracting: olivetti_faces/olivetti_faces/3/2.jpg  \n",
            " extracting: olivetti_faces/olivetti_faces/3/9.jpg  \n",
            " extracting: olivetti_faces/olivetti_faces/3/0.jpg  \n",
            " extracting: olivetti_faces/olivetti_faces/3/4.jpg  \n",
            " extracting: olivetti_faces/olivetti_faces/3/1.jpg  \n",
            " extracting: olivetti_faces/olivetti_faces/3/3.jpg  \n",
            " extracting: olivetti_faces/olivetti_faces/3/8.jpg  \n",
            " extracting: olivetti_faces/olivetti_faces/19/5.jpg  \n",
            " extracting: olivetti_faces/olivetti_faces/19/6.jpg  \n",
            " extracting: olivetti_faces/olivetti_faces/19/7.jpg  \n",
            " extracting: olivetti_faces/olivetti_faces/19/2.jpg  \n",
            " extracting: olivetti_faces/olivetti_faces/19/9.jpg  \n",
            " extracting: olivetti_faces/olivetti_faces/19/0.jpg  \n",
            " extracting: olivetti_faces/olivetti_faces/19/4.jpg  \n",
            " extracting: olivetti_faces/olivetti_faces/19/1.jpg  \n",
            " extracting: olivetti_faces/olivetti_faces/19/3.jpg  \n",
            " extracting: olivetti_faces/olivetti_faces/19/8.jpg  \n",
            " extracting: olivetti_faces/olivetti_faces/31/5.jpg  \n",
            " extracting: olivetti_faces/olivetti_faces/31/6.jpg  \n",
            " extracting: olivetti_faces/olivetti_faces/31/7.jpg  \n",
            " extracting: olivetti_faces/olivetti_faces/31/2.jpg  \n",
            " extracting: olivetti_faces/olivetti_faces/31/9.jpg  \n",
            " extracting: olivetti_faces/olivetti_faces/31/0.jpg  \n",
            " extracting: olivetti_faces/olivetti_faces/31/4.jpg  \n",
            " extracting: olivetti_faces/olivetti_faces/31/1.jpg  \n",
            " extracting: olivetti_faces/olivetti_faces/31/3.jpg  \n",
            " extracting: olivetti_faces/olivetti_faces/31/8.jpg  \n",
            " extracting: olivetti_faces/olivetti_faces/28/5.jpg  \n",
            " extracting: olivetti_faces/olivetti_faces/28/6.jpg  \n",
            " extracting: olivetti_faces/olivetti_faces/28/7.jpg  \n",
            " extracting: olivetti_faces/olivetti_faces/28/2.jpg  \n",
            " extracting: olivetti_faces/olivetti_faces/28/9.jpg  \n",
            " extracting: olivetti_faces/olivetti_faces/28/0.jpg  \n",
            " extracting: olivetti_faces/olivetti_faces/28/4.jpg  \n",
            " extracting: olivetti_faces/olivetti_faces/28/1.jpg  \n",
            " extracting: olivetti_faces/olivetti_faces/28/3.jpg  \n",
            " extracting: olivetti_faces/olivetti_faces/28/8.jpg  \n",
            " extracting: olivetti_faces/olivetti_faces/26/5.jpg  \n",
            " extracting: olivetti_faces/olivetti_faces/26/6.jpg  \n",
            " extracting: olivetti_faces/olivetti_faces/26/7.jpg  \n",
            " extracting: olivetti_faces/olivetti_faces/26/2.jpg  \n",
            " extracting: olivetti_faces/olivetti_faces/26/9.jpg  \n",
            " extracting: olivetti_faces/olivetti_faces/26/0.jpg  \n",
            " extracting: olivetti_faces/olivetti_faces/26/4.jpg  \n",
            " extracting: olivetti_faces/olivetti_faces/26/1.jpg  \n",
            " extracting: olivetti_faces/olivetti_faces/26/3.jpg  \n",
            " extracting: olivetti_faces/olivetti_faces/26/8.jpg  \n",
            " extracting: olivetti_faces/olivetti_faces/22/5.jpg  \n",
            " extracting: olivetti_faces/olivetti_faces/22/6.jpg  \n",
            " extracting: olivetti_faces/olivetti_faces/22/7.jpg  \n",
            " extracting: olivetti_faces/olivetti_faces/22/2.jpg  \n",
            " extracting: olivetti_faces/olivetti_faces/22/9.jpg  \n",
            " extracting: olivetti_faces/olivetti_faces/22/0.jpg  \n",
            " extracting: olivetti_faces/olivetti_faces/22/4.jpg  \n",
            " extracting: olivetti_faces/olivetti_faces/22/1.jpg  \n",
            " extracting: olivetti_faces/olivetti_faces/22/3.jpg  \n",
            " extracting: olivetti_faces/olivetti_faces/22/8.jpg  \n",
            " extracting: olivetti_faces/olivetti_faces/6/5.jpg  \n",
            " extracting: olivetti_faces/olivetti_faces/6/6.jpg  \n",
            " extracting: olivetti_faces/olivetti_faces/6/7.jpg  \n",
            " extracting: olivetti_faces/olivetti_faces/6/2.jpg  \n",
            " extracting: olivetti_faces/olivetti_faces/6/9.jpg  \n",
            " extracting: olivetti_faces/olivetti_faces/6/0.jpg  \n",
            " extracting: olivetti_faces/olivetti_faces/6/4.jpg  \n",
            " extracting: olivetti_faces/olivetti_faces/6/1.jpg  \n",
            " extracting: olivetti_faces/olivetti_faces/6/3.jpg  \n",
            " extracting: olivetti_faces/olivetti_faces/6/8.jpg  \n",
            " extracting: olivetti_faces/olivetti_faces/5/5.jpg  \n",
            " extracting: olivetti_faces/olivetti_faces/5/6.jpg  \n",
            " extracting: olivetti_faces/olivetti_faces/5/7.jpg  \n",
            " extracting: olivetti_faces/olivetti_faces/5/2.jpg  \n",
            " extracting: olivetti_faces/olivetti_faces/5/9.jpg  \n",
            " extracting: olivetti_faces/olivetti_faces/5/0.jpg  \n",
            " extracting: olivetti_faces/olivetti_faces/5/4.jpg  \n",
            " extracting: olivetti_faces/olivetti_faces/5/1.jpg  \n",
            " extracting: olivetti_faces/olivetti_faces/5/3.jpg  \n",
            " extracting: olivetti_faces/olivetti_faces/5/8.jpg  \n"
          ]
        }
      ]
    },
    {
      "cell_type": "code",
      "source": [
        "#!rm -r olivetti_faces"
      ],
      "metadata": {
        "id": "e2A8OULI8VVy"
      },
      "execution_count": null,
      "outputs": []
    },
    {
      "cell_type": "code",
      "source": [
        "import matplotlib.pyplot as plt\n",
        "import numpy as np\n",
        "from sklearn.model_selection import train_test_split\n",
        "from sklearn.neighbors import KNeighborsClassifier\n",
        "from os import listdir\n",
        "import cv2 #libreria per visualizare le immagini"
      ],
      "metadata": {
        "id": "s9amnn9ZXfYq"
      },
      "execution_count": null,
      "outputs": []
    },
    {
      "cell_type": "markdown",
      "source": [
        "si imposta risoluzione immagini"
      ],
      "metadata": {
        "id": "-Q05c-l5_grD"
      }
    },
    {
      "cell_type": "code",
      "source": [
        "RANDOM_SEED = 0\n",
        "img_size = (64, 64)"
      ],
      "metadata": {
        "id": "be0j9vvgZEbY"
      },
      "execution_count": null,
      "outputs": []
    },
    {
      "cell_type": "markdown",
      "source": [
        "immagine in"
      ],
      "metadata": {
        "id": "RjUyV_na_j6G"
      }
    },
    {
      "cell_type": "code",
      "source": [
        "FOLDER = \"olivetti_faces\"\n",
        "\n",
        "X = [] #array con immagine\n",
        "y = [] #label dell'immagine\n",
        "\n",
        "#si itera sulle cartelle e si estraggono le immagini\n",
        "for dir in listdir(FOLDER):\n",
        "  path = FOLDER+\"/\"+dir+\"/\"\n",
        "  for f in sorted(listdir(path)): #f è l'immagina si indica sorted per mantenere inalterato l'ordine delle immagini\n",
        "    if \".jpg\" in f:\n",
        "      x = cv2.imread(path+f, cv2.IMREAD_GRAYSCALE) #si indica path dell'immagine e gli si indica che l'immaigne è in bianco e nero\n",
        "      X.append(x)\n",
        "      y.append(dir)\n",
        "\n",
        "X = np.array(X)\n",
        "y = np.array(y)\n",
        "\n",
        "X.shape"
      ],
      "metadata": {
        "colab": {
          "base_uri": "https://localhost:8080/"
        },
        "id": "x0MnMEDe7I_s",
        "outputId": "4a320379-8945-4d11-e292-68217a4616e7"
      },
      "execution_count": null,
      "outputs": [
        {
          "output_type": "execute_result",
          "data": {
            "text/plain": [
              "(400, 64, 64)"
            ]
          },
          "metadata": {},
          "execution_count": 16
        }
      ]
    },
    {
      "cell_type": "code",
      "source": [
        "\n",
        "plt.imshow(X[0], cmap=\"gray\")"
      ],
      "metadata": {
        "colab": {
          "base_uri": "https://localhost:8080/",
          "height": 450
        },
        "id": "F5H9zs-dXzXJ",
        "outputId": "22efe75b-eb48-4d65-9987-27886e1541d1"
      },
      "execution_count": null,
      "outputs": [
        {
          "output_type": "execute_result",
          "data": {
            "text/plain": [
              "<matplotlib.image.AxesImage at 0x7a3fbff52e40>"
            ]
          },
          "metadata": {},
          "execution_count": 12
        },
        {
          "output_type": "display_data",
          "data": {
            "text/plain": [
              "<Figure size 640x480 with 1 Axes>"
            ],
            "image/png": "[encoded data removed]"
          },
          "metadata": {}
        }
      ]
    },
    {
      "cell_type": "code",
      "source": [
        "#l'immagine che è una matrice viene messa come array numpy\n",
        "#si fa un reshape\n",
        "X = X.reshape(X.shape[0], X.shape[1]*X.shape[2])\n",
        "X.shape"
      ],
      "metadata": {
        "colab": {
          "base_uri": "https://localhost:8080/"
        },
        "id": "M8AfPYlG-WIv",
        "outputId": "4f549e16-6b38-4e77-aba5-6dccd63e4429"
      },
      "execution_count": null,
      "outputs": [
        {
          "output_type": "execute_result",
          "data": {
            "text/plain": [
              "(400, 4096)"
            ]
          },
          "metadata": {},
          "execution_count": 26
        }
      ]
    },
    {
      "cell_type": "code",
      "source": [
        "#trasformazione inversa per verifica di non aver rovinato l'immagine\n",
        "plt.imshow(X[0].reshape(img_size[0], img_size[1]), cmap=\"gray\")"
      ],
      "metadata": {
        "colab": {
          "base_uri": "https://localhost:8080/",
          "height": 450
        },
        "id": "i7XBvb5Q-mYx",
        "outputId": "bdc2d5a2-74db-4f9c-ba79-f3c1a2ed1f3b"
      },
      "execution_count": null,
      "outputs": [
        {
          "output_type": "execute_result",
          "data": {
            "text/plain": [
              "<matplotlib.image.AxesImage at 0x7a3fae2568d0>"
            ]
          },
          "metadata": {},
          "execution_count": 15
        },
        {
          "output_type": "display_data",
          "data": {
            "text/plain": [
              "<Figure size 640x480 with 1 Axes>"
            ],
            "image/png": "[encoded data removed]"
          },
          "metadata": {}
        }
      ]
    },
    {
      "cell_type": "code",
      "source": [
        "X_train, X_test, y_train, y_test = train_test_split(X, y, test_size=.2, random_state=RANDOM_SEED)"
      ],
      "metadata": {
        "id": "zSWD2E38Xz6h"
      },
      "execution_count": null,
      "outputs": []
    },
    {
      "cell_type": "code",
      "source": [
        "#normaliziamo i valori, prendendo il valore massimo dei pixel\n",
        "X_train = X_train/255\n",
        "X_test = X_test/255"
      ],
      "metadata": {
        "id": "boKhQjHGALCo"
      },
      "execution_count": null,
      "outputs": []
    },
    {
      "cell_type": "code",
      "source": [
        "#si verifica se y_tst ha le stesse classi presenti in y_tain\n",
        "#1- trasforma i true in false\n",
        "(1-np.isin(y_test, y_train)).sum()"
      ],
      "metadata": {
        "colab": {
          "base_uri": "https://localhost:8080/"
        },
        "id": "rQ4jP4_-dSyR",
        "outputId": "f6df8e8b-ce5f-4a72-f6ee-f641ddb6cfae"
      },
      "execution_count": null,
      "outputs": [
        {
          "output_type": "execute_result",
          "data": {
            "text/plain": [
              "np.int64(0)"
            ]
          },
          "metadata": {},
          "execution_count": 29
        }
      ]
    },
    {
      "cell_type": "code",
      "source": [
        "knn = KNeighborsClassifier(n_neighbors=3)\n",
        "knn.fit(X_train, y_train)"
      ],
      "metadata": {
        "colab": {
          "base_uri": "https://localhost:8080/",
          "height": 80
        },
        "id": "6m7uSzhnYmO7",
        "outputId": "b2fab833-de4b-4994-cb7b-d8abc64ef217"
      },
      "execution_count": null,
      "outputs": [
        {
          "output_type": "execute_result",
          "data": {
            "text/plain": [
              "KNeighborsClassifier(n_neighbors=3)"
            ],
            "text/html": [
              "<style>#sk-container-id-1 {\n",
              "  /* Definition of color scheme common for light and dark mode */\n",
              "  --sklearn-color-text: #000;\n",
              "  --sklearn-color-text-muted: #666;\n",
              "  --sklearn-color-line: gray;\n",
              "  /* Definition of color scheme for unfitted estimators */\n",
              "  --sklearn-color-unfitted-level-0: #fff5e6;\n",
              "  --sklearn-color-unfitted-level-1: #f6e4d2;\n",
              "  --sklearn-color-unfitted-level-2: #ffe0b3;\n",
              "  --sklearn-color-unfitted-level-3: chocolate;\n",
              "  /* Definition of color scheme for fitted estimators */\n",
              "  --sklearn-color-fitted-level-0: #f0f8ff;\n",
              "  --sklearn-color-fitted-level-1: #d4ebff;\n",
              "  --sklearn-color-fitted-level-2: #b3dbfd;\n",
              "  --sklearn-color-fitted-level-3: cornflowerblue;\n",
              "\n",
              "  /* Specific color for light theme */\n",
              "  --sklearn-color-text-on-default-background: var(--sg-text-color, var(--theme-code-foreground, var(--jp-content-font-color1, black)));\n",
              "  --sklearn-color-background: var(--sg-background-color, var(--theme-background, var(--jp-layout-color0, white)));\n",
              "  --sklearn-color-border-box: var(--sg-text-color, var(--theme-code-foreground, var(--jp-content-font-color1, black)));\n",
              "  --sklearn-color-icon: #696969;\n",
              "\n",
              "  @media (prefers-color-scheme: dark) {\n",
              "    /* Redefinition of color scheme for dark theme */\n",
              "    --sklearn-color-text-on-default-background: var(--sg-text-color, var(--theme-code-foreground, var(--jp-content-font-color1, white)));\n",
              "    --sklearn-color-background: var(--sg-background-color, var(--theme-background, var(--jp-layout-color0, #111)));\n",
              "    --sklearn-color-border-box: var(--sg-text-color, var(--theme-code-foreground, var(--jp-content-font-color1, white)));\n",
              "    --sklearn-color-icon: #878787;\n",
              "  }\n",
              "}\n",
              "\n",
              "#sk-container-id-1 {\n",
              "  color: var(--sklearn-color-text);\n",
              "}\n",
              "\n",
              "#sk-container-id-1 pre {\n",
              "  padding: 0;\n",
              "}\n",
              "\n",
              "#sk-container-id-1 input.sk-hidden--visually {\n",
              "  border: 0;\n",
              "  clip: rect(1px 1px 1px 1px);\n",
              "  clip: rect(1px, 1px, 1px, 1px);\n",
              "  height: 1px;\n",
              "  margin: -1px;\n",
              "  overflow: hidden;\n",
              "  padding: 0;\n",
              "  position: absolute;\n",
              "  width: 1px;\n",
              "}\n",
              "\n",
              "#sk-container-id-1 div.sk-dashed-wrapped {\n",
              "  border: 1px dashed var(--sklearn-color-line);\n",
              "  margin: 0 0.4em 0.5em 0.4em;\n",
              "  box-sizing: border-box;\n",
              "  padding-bottom: 0.4em;\n",
              "  background-color: var(--sklearn-color-background);\n",
              "}\n",
              "\n",
              "#sk-container-id-1 div.sk-container {\n",
              "  /* jupyter's `normalize.less` sets `[hidden] { display: none; }`\n",
              "     but bootstrap.min.css set `[hidden] { display: none !important; }`\n",
              "     so we also need the `!important` here to be able to override the\n",
              "     default hidden behavior on the sphinx rendered scikit-learn.org.\n",
              "     See: https://github.com/scikit-learn/scikit-learn/issues/21755 */\n",
              "  display: inline-block !important;\n",
              "  position: relative;\n",
              "}\n",
              "\n",
              "#sk-container-id-1 div.sk-text-repr-fallback {\n",
              "  display: none;\n",
              "}\n",
              "\n",
              "div.sk-parallel-item,\n",
              "div.sk-serial,\n",
              "div.sk-item {\n",
              "  /* draw centered vertical line to link estimators */\n",
              "  background-image: linear-gradient(var(--sklearn-color-text-on-default-background), var(--sklearn-color-text-on-default-background));\n",
              "  background-size: 2px 100%;\n",
              "  background-repeat: no-repeat;\n",
              "  background-position: center center;\n",
              "}\n",
              "\n",
              "/* Parallel-specific style estimator block */\n",
              "\n",
              "#sk-container-id-1 div.sk-parallel-item::after {\n",
              "  content: \"\";\n",
              "  width: 100%;\n",
              "  border-bottom: 2px solid var(--sklearn-color-text-on-default-background);\n",
              "  flex-grow: 1;\n",
              "}\n",
              "\n",
              "#sk-container-id-1 div.sk-parallel {\n",
              "  display: flex;\n",
              "  align-items: stretch;\n",
              "  justify-content: center;\n",
              "  background-color: var(--sklearn-color-background);\n",
              "  position: relative;\n",
              "}\n",
              "\n",
              "#sk-container-id-1 div.sk-parallel-item {\n",
              "  display: flex;\n",
              "  flex-direction: column;\n",
              "}\n",
              "\n",
              "#sk-container-id-1 div.sk-parallel-item:first-child::after {\n",
              "  align-self: flex-end;\n",
              "  width: 50%;\n",
              "}\n",
              "\n",
              "#sk-container-id-1 div.sk-parallel-item:last-child::after {\n",
              "  align-self: flex-start;\n",
              "  width: 50%;\n",
              "}\n",
              "\n",
              "#sk-container-id-1 div.sk-parallel-item:only-child::after {\n",
              "  width: 0;\n",
              "}\n",
              "\n",
              "/* Serial-specific style estimator block */\n",
              "\n",
              "#sk-container-id-1 div.sk-serial {\n",
              "  display: flex;\n",
              "  flex-direction: column;\n",
              "  align-items: center;\n",
              "  background-color: var(--sklearn-color-background);\n",
              "  padding-right: 1em;\n",
              "  padding-left: 1em;\n",
              "}\n",
              "\n",
              "\n",
              "/* Toggleable style: style used for estimator/Pipeline/ColumnTransformer box that is\n",
              "clickable and can be expanded/collapsed.\n",
              "- Pipeline and ColumnTransformer use this feature and define the default style\n",
              "- Estimators will overwrite some part of the style using the `sk-estimator` class\n",
              "*/\n",
              "\n",
              "/* Pipeline and ColumnTransformer style (default) */\n",
              "\n",
              "#sk-container-id-1 div.sk-toggleable {\n",
              "  /* Default theme specific background. It is overwritten whether we have a\n",
              "  specific estimator or a Pipeline/ColumnTransformer */\n",
              "  background-color: var(--sklearn-color-background);\n",
              "}\n",
              "\n",
              "/* Toggleable label */\n",
              "#sk-container-id-1 label.sk-toggleable__label {\n",
              "  cursor: pointer;\n",
              "  display: flex;\n",
              "  width: 100%;\n",
              "  margin-bottom: 0;\n",
              "  padding: 0.5em;\n",
              "  box-sizing: border-box;\n",
              "  text-align: center;\n",
              "  align-items: start;\n",
              "  justify-content: space-between;\n",
              "  gap: 0.5em;\n",
              "}\n",
              "\n",
              "#sk-container-id-1 label.sk-toggleable__label .caption {\n",
              "  font-size: 0.6rem;\n",
              "  font-weight: lighter;\n",
              "  color: var(--sklearn-color-text-muted);\n",
              "}\n",
              "\n",
              "#sk-container-id-1 label.sk-toggleable__label-arrow:before {\n",
              "  /* Arrow on the left of the label */\n",
              "  content: \"▸\";\n",
              "  float: left;\n",
              "  margin-right: 0.25em;\n",
              "  color: var(--sklearn-color-icon);\n",
              "}\n",
              "\n",
              "#sk-container-id-1 label.sk-toggleable__label-arrow:hover:before {\n",
              "  color: var(--sklearn-color-text);\n",
              "}\n",
              "\n",
              "/* Toggleable content - dropdown */\n",
              "\n",
              "#sk-container-id-1 div.sk-toggleable__content {\n",
              "  max-height: 0;\n",
              "  max-width: 0;\n",
              "  overflow: hidden;\n",
              "  text-align: left;\n",
              "  /* unfitted */\n",
              "  background-color: var(--sklearn-color-unfitted-level-0);\n",
              "}\n",
              "\n",
              "#sk-container-id-1 div.sk-toggleable__content.fitted {\n",
              "  /* fitted */\n",
              "  background-color: var(--sklearn-color-fitted-level-0);\n",
              "}\n",
              "\n",
              "#sk-container-id-1 div.sk-toggleable__content pre {\n",
              "  margin: 0.2em;\n",
              "  border-radius: 0.25em;\n",
              "  color: var(--sklearn-color-text);\n",
              "  /* unfitted */\n",
              "  background-color: var(--sklearn-color-unfitted-level-0);\n",
              "}\n",
              "\n",
              "#sk-container-id-1 div.sk-toggleable__content.fitted pre {\n",
              "  /* unfitted */\n",
              "  background-color: var(--sklearn-color-fitted-level-0);\n",
              "}\n",
              "\n",
              "#sk-container-id-1 input.sk-toggleable__control:checked~div.sk-toggleable__content {\n",
              "  /* Expand drop-down */\n",
              "  max-height: 200px;\n",
              "  max-width: 100%;\n",
              "  overflow: auto;\n",
              "}\n",
              "\n",
              "#sk-container-id-1 input.sk-toggleable__control:checked~label.sk-toggleable__label-arrow:before {\n",
              "  content: \"▾\";\n",
              "}\n",
              "\n",
              "/* Pipeline/ColumnTransformer-specific style */\n",
              "\n",
              "#sk-container-id-1 div.sk-label input.sk-toggleable__control:checked~label.sk-toggleable__label {\n",
              "  color: var(--sklearn-color-text);\n",
              "  background-color: var(--sklearn-color-unfitted-level-2);\n",
              "}\n",
              "\n",
              "#sk-container-id-1 div.sk-label.fitted input.sk-toggleable__control:checked~label.sk-toggleable__label {\n",
              "  background-color: var(--sklearn-color-fitted-level-2);\n",
              "}\n",
              "\n",
              "/* Estimator-specific style */\n",
              "\n",
              "/* Colorize estimator box */\n",
              "#sk-container-id-1 div.sk-estimator input.sk-toggleable__control:checked~label.sk-toggleable__label {\n",
              "  /* unfitted */\n",
              "  background-color: var(--sklearn-color-unfitted-level-2);\n",
              "}\n",
              "\n",
              "#sk-container-id-1 div.sk-estimator.fitted input.sk-toggleable__control:checked~label.sk-toggleable__label {\n",
              "  /* fitted */\n",
              "  background-color: var(--sklearn-color-fitted-level-2);\n",
              "}\n",
              "\n",
              "#sk-container-id-1 div.sk-label label.sk-toggleable__label,\n",
              "#sk-container-id-1 div.sk-label label {\n",
              "  /* The background is the default theme color */\n",
              "  color: var(--sklearn-color-text-on-default-background);\n",
              "}\n",
              "\n",
              "/* On hover, darken the color of the background */\n",
              "#sk-container-id-1 div.sk-label:hover label.sk-toggleable__label {\n",
              "  color: var(--sklearn-color-text);\n",
              "  background-color: var(--sklearn-color-unfitted-level-2);\n",
              "}\n",
              "\n",
              "/* Label box, darken color on hover, fitted */\n",
              "#sk-container-id-1 div.sk-label.fitted:hover label.sk-toggleable__label.fitted {\n",
              "  color: var(--sklearn-color-text);\n",
              "  background-color: var(--sklearn-color-fitted-level-2);\n",
              "}\n",
              "\n",
              "/* Estimator label */\n",
              "\n",
              "#sk-container-id-1 div.sk-label label {\n",
              "  font-family: monospace;\n",
              "  font-weight: bold;\n",
              "  display: inline-block;\n",
              "  line-height: 1.2em;\n",
              "}\n",
              "\n",
              "#sk-container-id-1 div.sk-label-container {\n",
              "  text-align: center;\n",
              "}\n",
              "\n",
              "/* Estimator-specific */\n",
              "#sk-container-id-1 div.sk-estimator {\n",
              "  font-family: monospace;\n",
              "  border: 1px dotted var(--sklearn-color-border-box);\n",
              "  border-radius: 0.25em;\n",
              "  box-sizing: border-box;\n",
              "  margin-bottom: 0.5em;\n",
              "  /* unfitted */\n",
              "  background-color: var(--sklearn-color-unfitted-level-0);\n",
              "}\n",
              "\n",
              "#sk-container-id-1 div.sk-estimator.fitted {\n",
              "  /* fitted */\n",
              "  background-color: var(--sklearn-color-fitted-level-0);\n",
              "}\n",
              "\n",
              "/* on hover */\n",
              "#sk-container-id-1 div.sk-estimator:hover {\n",
              "  /* unfitted */\n",
              "  background-color: var(--sklearn-color-unfitted-level-2);\n",
              "}\n",
              "\n",
              "#sk-container-id-1 div.sk-estimator.fitted:hover {\n",
              "  /* fitted */\n",
              "  background-color: var(--sklearn-color-fitted-level-2);\n",
              "}\n",
              "\n",
              "/* Specification for estimator info (e.g. \"i\" and \"?\") */\n",
              "\n",
              "/* Common style for \"i\" and \"?\" */\n",
              "\n",
              ".sk-estimator-doc-link,\n",
              "a:link.sk-estimator-doc-link,\n",
              "a:visited.sk-estimator-doc-link {\n",
              "  float: right;\n",
              "  font-size: smaller;\n",
              "  line-height: 1em;\n",
              "  font-family: monospace;\n",
              "  background-color: var(--sklearn-color-background);\n",
              "  border-radius: 1em;\n",
              "  height: 1em;\n",
              "  width: 1em;\n",
              "  text-decoration: none !important;\n",
              "  margin-left: 0.5em;\n",
              "  text-align: center;\n",
              "  /* unfitted */\n",
              "  border: var(--sklearn-color-unfitted-level-1) 1pt solid;\n",
              "  color: var(--sklearn-color-unfitted-level-1);\n",
              "}\n",
              "\n",
              ".sk-estimator-doc-link.fitted,\n",
              "a:link.sk-estimator-doc-link.fitted,\n",
              "a:visited.sk-estimator-doc-link.fitted {\n",
              "  /* fitted */\n",
              "  border: var(--sklearn-color-fitted-level-1) 1pt solid;\n",
              "  color: var(--sklearn-color-fitted-level-1);\n",
              "}\n",
              "\n",
              "/* On hover */\n",
              "div.sk-estimator:hover .sk-estimator-doc-link:hover,\n",
              ".sk-estimator-doc-link:hover,\n",
              "div.sk-label-container:hover .sk-estimator-doc-link:hover,\n",
              ".sk-estimator-doc-link:hover {\n",
              "  /* unfitted */\n",
              "  background-color: var(--sklearn-color-unfitted-level-3);\n",
              "  color: var(--sklearn-color-background);\n",
              "  text-decoration: none;\n",
              "}\n",
              "\n",
              "div.sk-estimator.fitted:hover .sk-estimator-doc-link.fitted:hover,\n",
              ".sk-estimator-doc-link.fitted:hover,\n",
              "div.sk-label-container:hover .sk-estimator-doc-link.fitted:hover,\n",
              ".sk-estimator-doc-link.fitted:hover {\n",
              "  /* fitted */\n",
              "  background-color: var(--sklearn-color-fitted-level-3);\n",
              "  color: var(--sklearn-color-background);\n",
              "  text-decoration: none;\n",
              "}\n",
              "\n",
              "/* Span, style for the box shown on hovering the info icon */\n",
              ".sk-estimator-doc-link span {\n",
              "  display: none;\n",
              "  z-index: 9999;\n",
              "  position: relative;\n",
              "  font-weight: normal;\n",
              "  right: .2ex;\n",
              "  padding: .5ex;\n",
              "  margin: .5ex;\n",
              "  width: min-content;\n",
              "  min-width: 20ex;\n",
              "  max-width: 50ex;\n",
              "  color: var(--sklearn-color-text);\n",
              "  box-shadow: 2pt 2pt 4pt #999;\n",
              "  /* unfitted */\n",
              "  background: var(--sklearn-color-unfitted-level-0);\n",
              "  border: .5pt solid var(--sklearn-color-unfitted-level-3);\n",
              "}\n",
              "\n",
              ".sk-estimator-doc-link.fitted span {\n",
              "  /* fitted */\n",
              "  background: var(--sklearn-color-fitted-level-0);\n",
              "  border: var(--sklearn-color-fitted-level-3);\n",
              "}\n",
              "\n",
              ".sk-estimator-doc-link:hover span {\n",
              "  display: block;\n",
              "}\n",
              "\n",
              "/* \"?\"-specific style due to the `<a>` HTML tag */\n",
              "\n",
              "#sk-container-id-1 a.estimator_doc_link {\n",
              "  float: right;\n",
              "  font-size: 1rem;\n",
              "  line-height: 1em;\n",
              "  font-family: monospace;\n",
              "  background-color: var(--sklearn-color-background);\n",
              "  border-radius: 1rem;\n",
              "  height: 1rem;\n",
              "  width: 1rem;\n",
              "  text-decoration: none;\n",
              "  /* unfitted */\n",
              "  color: var(--sklearn-color-unfitted-level-1);\n",
              "  border: var(--sklearn-color-unfitted-level-1) 1pt solid;\n",
              "}\n",
              "\n",
              "#sk-container-id-1 a.estimator_doc_link.fitted {\n",
              "  /* fitted */\n",
              "  border: var(--sklearn-color-fitted-level-1) 1pt solid;\n",
              "  color: var(--sklearn-color-fitted-level-1);\n",
              "}\n",
              "\n",
              "/* On hover */\n",
              "#sk-container-id-1 a.estimator_doc_link:hover {\n",
              "  /* unfitted */\n",
              "  background-color: var(--sklearn-color-unfitted-level-3);\n",
              "  color: var(--sklearn-color-background);\n",
              "  text-decoration: none;\n",
              "}\n",
              "\n",
              "#sk-container-id-1 a.estimator_doc_link.fitted:hover {\n",
              "  /* fitted */\n",
              "  background-color: var(--sklearn-color-fitted-level-3);\n",
              "}\n",
              "</style><div id=\"sk-container-id-1\" class=\"sk-top-container\"><div class=\"sk-text-repr-fallback\"><pre>KNeighborsClassifier(n_neighbors=3)</pre><b>In a Jupyter environment, please rerun this cell to show the HTML representation or trust the notebook. <br />On GitHub, the HTML representation is unable to render, please try loading this page with nbviewer.org.</b></div><div class=\"sk-container\" hidden><div class=\"sk-item\"><div class=\"sk-estimator fitted sk-toggleable\"><input class=\"sk-toggleable__control sk-hidden--visually\" id=\"sk-estimator-id-1\" type=\"checkbox\" checked><label for=\"sk-estimator-id-1\" class=\"sk-toggleable__label fitted sk-toggleable__label-arrow\"><div><div>KNeighborsClassifier</div></div><div><a class=\"sk-estimator-doc-link fitted\" rel=\"noreferrer\" target=\"_blank\" href=\"https://scikit-learn.org/1.6/modules/generated/sklearn.neighbors.KNeighborsClassifier.html\">?<span>Documentation for KNeighborsClassifier</span></a><span class=\"sk-estimator-doc-link fitted\">i<span>Fitted</span></span></div></label><div class=\"sk-toggleable__content fitted\"><pre>KNeighborsClassifier(n_neighbors=3)</pre></div> </div></div></div></div>"
            ]
          },
          "metadata": {},
          "execution_count": 30
        }
      ]
    },
    {
      "cell_type": "code",
      "source": [
        "knn.score(X_test, y_test)"
      ],
      "metadata": {
        "colab": {
          "base_uri": "https://localhost:8080/"
        },
        "id": "6nasZ2cQcCgQ",
        "outputId": "ac075203-7fbd-415b-8c6b-f26ef165cd1d"
      },
      "execution_count": null,
      "outputs": [
        {
          "output_type": "execute_result",
          "data": {
            "text/plain": [
              "0.8625"
            ]
          },
          "metadata": {},
          "execution_count": 31
        }
      ]
    },
    {
      "cell_type": "code",
      "source": [
        "#proviamo il modello vedendo a quale foto l'immagine assomiglia\n",
        "#l'immagine deve avere dimensioni uguali a quelle delle immagini uste per il training 64x64\n",
        "x = cv2.imread(\"me.jpg\", cv2.IMREAD_GRAYSCALE)\n",
        "x = cv2.resize(x, img_size)\n",
        "plt.imshow(x, cmap=\"gray\")"
      ],
      "metadata": {
        "colab": {
          "base_uri": "https://localhost:8080/",
          "height": 216
        },
        "id": "DhzkDB_kAEnq",
        "outputId": "288d9e74-b1c9-4de4-f5f1-a53e942fe130"
      },
      "execution_count": null,
      "outputs": [
        {
          "output_type": "error",
          "ename": "error",
          "evalue": "OpenCV(4.12.0) /io/opencv/modules/imgproc/src/resize.cpp:4208: error: (-215:Assertion failed) !ssize.empty() in function 'resize'\n",
          "traceback": [
            "\u001b[0;31m---------------------------------------------------------------------------\u001b[0m",
            "\u001b[0;31merror\u001b[0m                                     Traceback (most recent call last)",
            "\u001b[0;32m/tmp/ipython-input-3042171262.py\u001b[0m in \u001b[0;36m<cell line: 0>\u001b[0;34m()\u001b[0m\n\u001b[1;32m      1\u001b[0m \u001b[0;31m#proviamo il modello vedendo a quale foto l'immagine assomiglia\u001b[0m\u001b[0;34m\u001b[0m\u001b[0;34m\u001b[0m\u001b[0m\n\u001b[1;32m      2\u001b[0m \u001b[0mx\u001b[0m \u001b[0;34m=\u001b[0m \u001b[0mcv2\u001b[0m\u001b[0;34m.\u001b[0m\u001b[0mimread\u001b[0m\u001b[0;34m(\u001b[0m\u001b[0;34m\"me.jpg\"\u001b[0m\u001b[0;34m,\u001b[0m \u001b[0mcv2\u001b[0m\u001b[0;34m.\u001b[0m\u001b[0mIMREAD_GRAYSCALE\u001b[0m\u001b[0;34m)\u001b[0m\u001b[0;34m\u001b[0m\u001b[0;34m\u001b[0m\u001b[0m\n\u001b[0;32m----> 3\u001b[0;31m \u001b[0mx\u001b[0m \u001b[0;34m=\u001b[0m \u001b[0mcv2\u001b[0m\u001b[0;34m.\u001b[0m\u001b[0mresize\u001b[0m\u001b[0;34m(\u001b[0m\u001b[0mx\u001b[0m\u001b[0;34m,\u001b[0m \u001b[0mimg_size\u001b[0m\u001b[0;34m)\u001b[0m\u001b[0;34m\u001b[0m\u001b[0;34m\u001b[0m\u001b[0m\n\u001b[0m\u001b[1;32m      4\u001b[0m \u001b[0mplt\u001b[0m\u001b[0;34m.\u001b[0m\u001b[0mimshow\u001b[0m\u001b[0;34m(\u001b[0m\u001b[0mx\u001b[0m\u001b[0;34m,\u001b[0m \u001b[0mcmap\u001b[0m\u001b[0;34m=\u001b[0m\u001b[0;34m\"gray\"\u001b[0m\u001b[0;34m)\u001b[0m\u001b[0;34m\u001b[0m\u001b[0;34m\u001b[0m\u001b[0m\n",
            "\u001b[0;31merror\u001b[0m: OpenCV(4.12.0) /io/opencv/modules/imgproc/src/resize.cpp:4208: error: (-215:Assertion failed) !ssize.empty() in function 'resize'\n"
          ]
        }
      ]
    },
    {
      "cell_type": "code",
      "source": [
        "x = x.reshape(img_size[0]*img_size[1])\n",
        "x = x/255"
      ],
      "metadata": {
        "id": "X7htK3WyAhw4"
      },
      "execution_count": null,
      "outputs": []
    },
    {
      "cell_type": "code",
      "source": [
        "x.shape"
      ],
      "metadata": {
        "colab": {
          "base_uri": "https://localhost:8080/"
        },
        "id": "KoYfh8I8A_NG",
        "outputId": "e1ace378-d2cc-497e-9a0a-4287408408cf"
      },
      "execution_count": null,
      "outputs": [
        {
          "output_type": "execute_result",
          "data": {
            "text/plain": [
              "(4096,)"
            ]
          },
          "metadata": {},
          "execution_count": 119
        }
      ]
    },
    {
      "cell_type": "code",
      "source": [
        "y_pred = knn.predict([x])\n",
        "y_pred"
      ],
      "metadata": {
        "colab": {
          "base_uri": "https://localhost:8080/"
        },
        "id": "nbQcHChmAumZ",
        "outputId": "848f560e-c7aa-4ffa-8596-45db15b17ad1"
      },
      "execution_count": null,
      "outputs": [
        {
          "output_type": "execute_result",
          "data": {
            "text/plain": [
              "array(['20'], dtype='<U2')"
            ]
          },
          "metadata": {},
          "execution_count": 124
        }
      ]
    },
    {
      "cell_type": "code",
      "source": [
        "#verifico le probabilità associate alle 40 persone\n",
        "y_proba = knn.predict_proba([x])[0]\n",
        "\n",
        "for i in range(y_proba.shape[0]):\n",
        "  print(f\"Person {knn.classes_[i]} = {y_proba[i]} probability\") #classes recupera la classe relativa all'indice"
      ],
      "metadata": {
        "colab": {
          "base_uri": "https://localhost:8080/"
        },
        "id": "lqwYX5NNAy39",
        "outputId": "cf93a68b-02c9-4399-a81f-3d42f3cb4c0b"
      },
      "execution_count": null,
      "outputs": [
        {
          "output_type": "stream",
          "name": "stdout",
          "text": [
            "Person 0 = 0.0 probability\n",
            "Person 1 = 0.0 probability\n",
            "Person 10 = 0.0 probability\n",
            "Person 11 = 0.0 probability\n",
            "Person 12 = 0.0 probability\n",
            "Person 13 = 0.0 probability\n",
            "Person 14 = 0.0 probability\n",
            "Person 15 = 0.0 probability\n",
            "Person 16 = 0.0 probability\n",
            "Person 17 = 0.0 probability\n",
            "Person 18 = 0.0 probability\n",
            "Person 19 = 0.0 probability\n",
            "Person 2 = 0.0 probability\n",
            "Person 20 = 0.4 probability\n",
            "Person 21 = 0.0 probability\n",
            "Person 22 = 0.0 probability\n",
            "Person 23 = 0.0 probability\n",
            "Person 24 = 0.0 probability\n",
            "Person 25 = 0.4 probability\n",
            "Person 26 = 0.0 probability\n",
            "Person 27 = 0.0 probability\n",
            "Person 28 = 0.0 probability\n",
            "Person 29 = 0.2 probability\n",
            "Person 3 = 0.0 probability\n",
            "Person 30 = 0.0 probability\n",
            "Person 31 = 0.0 probability\n",
            "Person 32 = 0.0 probability\n",
            "Person 33 = 0.0 probability\n",
            "Person 34 = 0.0 probability\n",
            "Person 35 = 0.0 probability\n",
            "Person 36 = 0.0 probability\n",
            "Person 37 = 0.0 probability\n",
            "Person 38 = 0.0 probability\n",
            "Person 39 = 0.0 probability\n",
            "Person 4 = 0.0 probability\n",
            "Person 5 = 0.0 probability\n",
            "Person 6 = 0.0 probability\n",
            "Person 7 = 0.0 probability\n",
            "Person 8 = 0.0 probability\n",
            "Person 9 = 0.0 probability\n"
          ]
        }
      ]
    },
    {
      "cell_type": "code",
      "source": [],
      "metadata": {
        "id": "h0-uc-rgCWr8"
      },
      "execution_count": null,
      "outputs": []
    }
  ]
}